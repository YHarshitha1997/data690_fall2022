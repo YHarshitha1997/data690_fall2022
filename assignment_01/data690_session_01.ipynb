{
  "nbformat": 4,
  "nbformat_minor": 0,
  "metadata": {
    "colab": {
      "provenance": [],
      "authorship_tag": "ABX9TyN1Dvy57QznQzKNAqGu+Kuw",
      "include_colab_link": true
    },
    "kernelspec": {
      "name": "python3",
      "display_name": "Python 3"
    },
    "language_info": {
      "name": "python"
    }
  },
  "cells": [
    {
      "cell_type": "markdown",
      "metadata": {
        "id": "view-in-github",
        "colab_type": "text"
      },
      "source": [
        "<a href=\"https://colab.research.google.com/github/wcj365/data690_fall2022/blob/main/assignment_01/data690_session_01.ipynb\" target=\"_parent\"><img src=\"https://colab.research.google.com/assets/colab-badge.svg\" alt=\"Open In Colab\"/></a>"
      ]
    },
    {
      "cell_type": "markdown",
      "source": [
        "# Data 690 Session 01\n",
        "\n",
        "This is the notebook for in-class practice.\n",
        "\n",
        "- Name: *Jay Wang*\n",
        "- Date: *09/01/2022*"
      ],
      "metadata": {
        "id": "sFhzNTrdsh6P"
      }
    },
    {
      "cell_type": "code",
      "execution_count": 1,
      "metadata": {
        "colab": {
          "base_uri": "https://localhost:8080/"
        },
        "id": "m80nvowcsVBP",
        "outputId": "8334a487-0825-4123-c4ea-5385cac107dd"
      },
      "outputs": [
        {
          "output_type": "stream",
          "name": "stdout",
          "text": [
            "Hello World!\n"
          ]
        }
      ],
      "source": [
        "print(\"Hello World!\")"
      ]
    },
    {
      "cell_type": "code",
      "source": [
        "print(\"My name\", \"is Jay\")"
      ],
      "metadata": {
        "id": "Y6ZPWELkugFi",
        "outputId": "0606a9e1-521a-435b-d6a0-769963f3cb27",
        "colab": {
          "base_uri": "https://localhost:8080/"
        }
      },
      "execution_count": 2,
      "outputs": [
        {
          "output_type": "stream",
          "name": "stdout",
          "text": [
            "My name is Jay\n"
          ]
        }
      ]
    },
    {
      "cell_type": "code",
      "source": [
        "age = 80\n",
        "name = \"Jay\"\n",
        "print(\"my name is\", name, \", my age is\", age)"
      ],
      "metadata": {
        "id": "JLWOCWyMuozY",
        "outputId": "6fa7f853-9777-4110-fe21-8da6bd39e07c",
        "colab": {
          "base_uri": "https://localhost:8080/"
        }
      },
      "execution_count": 6,
      "outputs": [
        {
          "output_type": "stream",
          "name": "stdout",
          "text": [
            "my name is Jay , my age is 80\n"
          ]
        }
      ]
    },
    {
      "cell_type": "code",
      "source": [
        "print(\"my name is \" + name + \", \" + \"my age is \" + str(age))\n"
      ],
      "metadata": {
        "id": "hf32uNWXvahY",
        "outputId": "ced9b38a-8294-4da5-ad79-3bdbfc0e2624",
        "colab": {
          "base_uri": "https://localhost:8080/"
        }
      },
      "execution_count": 8,
      "outputs": [
        {
          "output_type": "stream",
          "name": "stdout",
          "text": [
            "my name is Jay, my age is 80\n"
          ]
        }
      ]
    },
    {
      "cell_type": "code",
      "source": [
        "print(\"my name is \" + name + \", \" + \"my age is\", age)"
      ],
      "metadata": {
        "id": "RcHG9h5YwOnb",
        "outputId": "a2c43084-fd75-4796-d758-0ecb68277b4f",
        "colab": {
          "base_uri": "https://localhost:8080/"
        }
      },
      "execution_count": 10,
      "outputs": [
        {
          "output_type": "stream",
          "name": "stdout",
          "text": [
            "my name is Jay, my age is 80\n"
          ]
        }
      ]
    },
    {
      "cell_type": "code",
      "source": [
        "age=\"80\"\n",
        "print(\"my name is \" + name + \", \" + \"my age is \" + age)"
      ],
      "metadata": {
        "id": "0VqljIgDwXCe",
        "outputId": "2610566d-bacc-4f7e-9ae9-d43b0c8432b3",
        "colab": {
          "base_uri": "https://localhost:8080/"
        }
      },
      "execution_count": 11,
      "outputs": [
        {
          "output_type": "stream",
          "name": "stdout",
          "text": [
            "my name is Jay, my age is 80\n"
          ]
        }
      ]
    }
  ]
}